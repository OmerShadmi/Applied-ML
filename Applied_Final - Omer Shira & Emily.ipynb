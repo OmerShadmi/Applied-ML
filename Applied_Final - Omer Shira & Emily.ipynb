{
  "cells": [
    {
      "cell_type": "markdown",
      "id": "f008fdbe-2fe0-48fb-bf66-f6929cec764b",
      "metadata": {
        "id": "f008fdbe-2fe0-48fb-bf66-f6929cec764b"
      },
      "source": [
        "# ***Final Assignment - Applied ML***\n",
        "**<u>By:</u> Omer Shadmi (327722575), Shira Lavi (216006395) & Emily Bederov (215025255)**\n"
      ]
    },
    {
      "cell_type": "markdown",
      "id": "06271d6b",
      "metadata": {
        "id": "06271d6b"
      },
      "source": [
        "--------"
      ]
    },
    {
      "cell_type": "markdown",
      "id": "e6f2a49d",
      "metadata": {
        "id": "e6f2a49d"
      },
      "source": [
        "## **Preperations**"
      ]
    },
    {
      "cell_type": "code",
      "execution_count": 2,
      "id": "91b6ecac",
      "metadata": {
        "id": "91b6ecac"
      },
      "outputs": [],
      "source": [
        "import pandas as pd\n",
        "import numpy as np\n",
        "from typing import List, Dict, Tuple\n",
        "import tensorflow as tf\n",
        "from tensorflow.keras import layers, Model\n",
        "import matplotlib.pyplot as plt"
      ]
    },
    {
      "cell_type": "markdown",
      "id": "031f54b0-560c-4d23-95a7-614f71b40334",
      "metadata": {
        "id": "031f54b0-560c-4d23-95a7-614f71b40334"
      },
      "source": [
        "### <u>Reading the Dataset:</u>"
      ]
    },
    {
      "cell_type": "markdown",
      "id": "e7682c34",
      "metadata": {
        "id": "e7682c34"
      },
      "source": [
        "Due to time and computational resources limitations, we will be working with a smaller version of the dataset, containing only the first 100k rows."
      ]
    },
    {
      "cell_type": "code",
      "execution_count": 37,
      "id": "1685c817-ef23-48f9-b01e-429d8b5b4638",
      "metadata": {
        "id": "1685c817-ef23-48f9-b01e-429d8b5b4638"
      },
      "outputs": [],
      "source": [
        "path_to_data = \"review_230k.parquet\"\n",
        "data = pd.read_parquet(path_to_data)\n",
        "\n",
        "# Keep only the first 100k rows\n",
        "shorten_data = data.head(100000)"
      ]
    },
    {
      "cell_type": "code",
      "execution_count": null,
      "id": "ac139d4e",
      "metadata": {
        "colab": {
          "base_uri": "https://localhost:8080/"
        },
        "id": "ac139d4e",
        "outputId": "2bdb01a1-4abf-4ef8-ae49-d4670ed40816"
      },
      "outputs": [
        {
          "name": "stdout",
          "output_type": "stream",
          "text": [
            "Shape of shorten_data: (100000, 2)\n"
          ]
        }
      ],
      "source": [
        "# Print the shape of the new dataset to verify\n",
        "print(f\"Shape of shorten_data: {shorten_data.shape}\")"
      ]
    },
    {
      "cell_type": "code",
      "execution_count": null,
      "id": "acec4b32",
      "metadata": {
        "colab": {
          "base_uri": "https://localhost:8080/",
          "height": 143
        },
        "id": "acec4b32",
        "outputId": "601ddbd1-2a64-4542-a964-02ff31d16726"
      },
      "outputs": [
        {
          "data": {
            "text/html": [
              "<div>\n",
              "<style scoped>\n",
              "    .dataframe tbody tr th:only-of-type {\n",
              "        vertical-align: middle;\n",
              "    }\n",
              "\n",
              "    .dataframe tbody tr th {\n",
              "        vertical-align: top;\n",
              "    }\n",
              "\n",
              "    .dataframe thead th {\n",
              "        text-align: right;\n",
              "    }\n",
              "</style>\n",
              "<table border=\"1\" class=\"dataframe\">\n",
              "  <thead>\n",
              "    <tr style=\"text-align: right;\">\n",
              "      <th></th>\n",
              "      <th>title</th>\n",
              "      <th>text</th>\n",
              "    </tr>\n",
              "  </thead>\n",
              "  <tbody>\n",
              "    <tr>\n",
              "      <th>0</th>\n",
              "      <td>Truly is \"Jewel of the Upper Wets Side\"</td>\n",
              "      <td>Stayed in a king suite for 11 nights and yes i...</td>\n",
              "    </tr>\n",
              "    <tr>\n",
              "      <th>1</th>\n",
              "      <td>My home away from home!</td>\n",
              "      <td>On every visit to NYC, the Hotel Beacon is the...</td>\n",
              "    </tr>\n",
              "    <tr>\n",
              "      <th>2</th>\n",
              "      <td>Great Stay</td>\n",
              "      <td>This is a great property in Midtown. We two di...</td>\n",
              "    </tr>\n",
              "  </tbody>\n",
              "</table>\n",
              "</div>"
            ],
            "text/plain": [
              "                                     title  \\\n",
              "0  Truly is \"Jewel of the Upper Wets Side\"   \n",
              "1                  My home away from home!   \n",
              "2                               Great Stay   \n",
              "\n",
              "                                                text  \n",
              "0  Stayed in a king suite for 11 nights and yes i...  \n",
              "1  On every visit to NYC, the Hotel Beacon is the...  \n",
              "2  This is a great property in Midtown. We two di...  "
            ]
          },
          "execution_count": 149,
          "metadata": {},
          "output_type": "execute_result"
        }
      ],
      "source": [
        "shorten_data.head(3)"
      ]
    },
    {
      "cell_type": "markdown",
      "id": "31feec10",
      "metadata": {
        "id": "31feec10"
      },
      "source": [
        "We create a function to combine the title and text columns, and convert them to lowercase."
      ]
    },
    {
      "cell_type": "code",
      "execution_count": 38,
      "id": "0d2abf69-dec8-450b-89b5-594a7226cae0",
      "metadata": {
        "id": "0d2abf69-dec8-450b-89b5-594a7226cae0"
      },
      "outputs": [],
      "source": [
        "def create_dataset(data: pd.DataFrame) -> pd.Series:\n",
        "    \"\"\"Create the dataset in your preferable format\"\"\"\n",
        "    # Combine title and text, and convert to lowercase\n",
        "    return data['title'].str.lower() + ' ' + data['text'].str.lower()"
      ]
    },
    {
      "cell_type": "code",
      "execution_count": 39,
      "id": "58c43b7a-abf6-4ef2-8f04-e3b7d5d32b3b",
      "metadata": {
        "id": "58c43b7a-abf6-4ef2-8f04-e3b7d5d32b3b"
      },
      "outputs": [],
      "source": [
        "dataset = create_dataset(shorten_data)"
      ]
    },
    {
      "cell_type": "code",
      "execution_count": null,
      "id": "e7917e9c",
      "metadata": {
        "colab": {
          "base_uri": "https://localhost:8080/",
          "height": 178
        },
        "id": "e7917e9c",
        "outputId": "91eb944b-d2d4-403e-b19a-f7c5584c3e96"
      },
      "outputs": [
        {
          "data": {
            "text/plain": [
              "0    truly is \"jewel of the upper wets side\" stayed...\n",
              "1    my home away from home! on every visit to nyc,...\n",
              "2    great stay this is a great property in midtown...\n",
              "dtype: object"
            ]
          },
          "execution_count": 152,
          "metadata": {},
          "output_type": "execute_result"
        }
      ],
      "source": [
        "dataset.head(3)"
      ]
    },
    {
      "cell_type": "markdown",
      "id": "71c4e719-a0c9-4ce3-8feb-e0ec551b4c76",
      "metadata": {
        "id": "71c4e719-a0c9-4ce3-8feb-e0ec551b4c76"
      },
      "source": [
        "### <u>Cleaning the Dataset:</u>\n"
      ]
    },
    {
      "cell_type": "code",
      "execution_count": 40,
      "id": "70a4a926",
      "metadata": {
        "id": "70a4a926"
      },
      "outputs": [],
      "source": [
        "import re"
      ]
    },
    {
      "cell_type": "markdown",
      "id": "9871cd35",
      "metadata": {
        "id": "9871cd35"
      },
      "source": [
        "This function removes special characters and digits, and removes extra whitespace."
      ]
    },
    {
      "cell_type": "code",
      "execution_count": 41,
      "id": "cbdb4643-5bde-4356-8576-3077c66ea0c5",
      "metadata": {
        "id": "cbdb4643-5bde-4356-8576-3077c66ea0c5"
      },
      "outputs": [],
      "source": [
        "def prepare_dataset(dataset: pd.Series) -> pd.Series:\n",
        "    \"\"\"Clean and prepare the dataset before word encoding\"\"\"\n",
        "\n",
        "    def clean_text(text: str) -> str:\n",
        "        # Remove special characters and digits\n",
        "        text = re.sub(r'[^a-zA-Z\\s]', '', text)\n",
        "        # Remove extra whitespace\n",
        "        text = re.sub(r'\\s+', ' ', text).strip()\n",
        "        return text\n",
        "\n",
        "    return dataset.apply(clean_text)\n",
        "\n",
        "dataset = prepare_dataset(dataset)"
      ]
    },
    {
      "cell_type": "markdown",
      "id": "c6ea1903",
      "metadata": {
        "id": "c6ea1903"
      },
      "source": [
        "And now we can see the cleaned dataset:"
      ]
    },
    {
      "cell_type": "code",
      "execution_count": null,
      "id": "fc3adbfe",
      "metadata": {
        "colab": {
          "base_uri": "https://localhost:8080/",
          "height": 178
        },
        "id": "fc3adbfe",
        "outputId": "06419725-d5ce-4680-ad65-6d30a86c2aef"
      },
      "outputs": [
        {
          "data": {
            "text/plain": [
              "0    truly is jewel of the upper wets side stayed i...\n",
              "1    my home away from home on every visit to nyc t...\n",
              "2    great stay this is a great property in midtown...\n",
              "dtype: object"
            ]
          },
          "execution_count": 155,
          "metadata": {},
          "output_type": "execute_result"
        }
      ],
      "source": [
        "dataset.head(3)"
      ]
    },
    {
      "cell_type": "markdown",
      "id": "843e6a12",
      "metadata": {
        "id": "843e6a12"
      },
      "source": [
        "----------------"
      ]
    },
    {
      "cell_type": "markdown",
      "id": "0e7fd81b",
      "metadata": {
        "id": "0e7fd81b"
      },
      "source": [
        "## **Encoding the Dataset**\n"
      ]
    },
    {
      "cell_type": "markdown",
      "id": "86d4fd16-3787-411e-b098-32a1de657f71",
      "metadata": {
        "id": "86d4fd16-3787-411e-b098-32a1de657f71"
      },
      "source": [
        "### <u>Create Vocabulary:</u>\n"
      ]
    },
    {
      "cell_type": "code",
      "execution_count": 42,
      "id": "a26c5463",
      "metadata": {
        "id": "a26c5463"
      },
      "outputs": [],
      "source": [
        "from collections import Counter"
      ]
    },
    {
      "cell_type": "markdown",
      "id": "fa0cd84a",
      "metadata": {
        "id": "fa0cd84a"
      },
      "source": [
        "A frequency dictionary is created to map each word to its respective frequency.\n"
      ]
    },
    {
      "cell_type": "code",
      "execution_count": 43,
      "id": "e29c12a6",
      "metadata": {
        "id": "e29c12a6"
      },
      "outputs": [],
      "source": [
        "# Create freq_before_subsampling dictionary\n",
        "def create_vocabulary(dataset: pd.Series) -> dict:\n",
        "    \"\"\"Create a dictionary mapping each word to its respective frequency\"\"\"\n",
        "    words = ' '.join(dataset).split()\n",
        "    return dict(Counter(words))\n",
        "\n",
        "freq_voc = create_vocabulary(dataset)"
      ]
    },
    {
      "cell_type": "markdown",
      "id": "8c3ff34c",
      "metadata": {
        "id": "8c3ff34c"
      },
      "source": [
        "We subsample words of two types:\n",
        "1. Frequent words, with a probability of being subsampled proportional to their frequency.\n",
        "2. Rare words, with less than 10 occurrences.\n",
        "\n",
        "The formula for subsampling frequent words is:\n",
        "\n",
        "$P(w) = \\left(\\sqrt{\\frac{z(w)}{0.001}} + 1\\right) \\cdot \\frac{0.001}{z(w)}$\n",
        "\n",
        "Where z(w) is the fraction of the total words in the corpus that are\n",
        "that word.\n"
      ]
    },
    {
      "cell_type": "code",
      "execution_count": 44,
      "id": "6e6b1f9b",
      "metadata": {
        "id": "6e6b1f9b"
      },
      "outputs": [],
      "source": [
        "# Set a fixed seed for reproducibility\n",
        "np.random.seed(42)\n",
        "\n",
        "# Calculate total number of words\n",
        "total_words = sum(freq_voc.values())\n",
        "\n",
        "# The fraction of the word's frequency over the total number of words\n",
        "def z(word):\n",
        "    return freq_voc[word] / total_words\n",
        "\n",
        "# The probability of subsampling the word\n",
        "def p(word):\n",
        "    z_w = z(word)\n",
        "    return (((z_w / 0.001) ** 0.5) + 1) * (0.001 / z_w)\n",
        "\n",
        "# Create a copy of the dictionary to iterate over\n",
        "words_to_check = list(freq_voc.keys())\n",
        "\n",
        "for word in words_to_check:\n",
        "    freq = freq_voc[word]\n",
        "    # Remove frequent words based on subsampling probability\n",
        "    if np.random.random() > p(word):\n",
        "        del freq_voc[word]\n",
        "    # Remove rare words (less than 10 occurrences)\n",
        "    elif freq < 10:\n",
        "        del freq_voc[word]"
      ]
    },
    {
      "cell_type": "code",
      "execution_count": null,
      "id": "0e4029b8",
      "metadata": {
        "colab": {
          "base_uri": "https://localhost:8080/"
        },
        "id": "0e4029b8",
        "outputId": "2ce61e99-a016-4096-b03b-8ac77ace1bf1"
      },
      "outputs": [
        {
          "name": "stdout",
          "output_type": "stream",
          "text": [
            "Initial vocabulary size: 167438\n",
            "Total words removed: 144723\n",
            "Final vocabulary size: 22715\n"
          ]
        }
      ],
      "source": [
        "# Print statistics\n",
        "initial_vocab_size = len(words_to_check)\n",
        "final_vocab_size = len(freq_voc)\n",
        "removed_words = initial_vocab_size - final_vocab_size\n",
        "\n",
        "print(f\"Initial vocabulary size: {initial_vocab_size}\")\n",
        "print(f\"Total words removed: {removed_words}\")\n",
        "print(f\"Final vocabulary size: {final_vocab_size}\")"
      ]
    },
    {
      "cell_type": "code",
      "execution_count": null,
      "id": "3a985597",
      "metadata": {
        "colab": {
          "base_uri": "https://localhost:8080/"
        },
        "id": "3a985597",
        "outputId": "cf32e040-e34e-4a4e-ff66-76eb2e57b9f6"
      },
      "outputs": [
        {
          "name": "stdout",
          "output_type": "stream",
          "text": [
            "\n",
            "Some examples from the vocabulary:\n",
            "truly: 1281\n",
            "jewel: 125\n",
            "upper: 2218\n"
          ]
        }
      ],
      "source": [
        "# Print some examples\n",
        "print(\"\\nSome examples from the vocabulary:\")\n",
        "for word, freq in list(freq_voc.items())[:3]:\n",
        "    print(f\"{word}: {freq}\")"
      ]
    },
    {
      "cell_type": "markdown",
      "id": "cdfa0b49-60b8-407e-9d6b-c5eef5f2e28e",
      "metadata": {
        "id": "cdfa0b49-60b8-407e-9d6b-c5eef5f2e28e"
      },
      "source": [
        "### <u>Word Encoding:</u>\n"
      ]
    },
    {
      "cell_type": "markdown",
      "id": "9ae015ff",
      "metadata": {
        "id": "9ae015ff"
      },
      "source": [
        "Before encoding, we need to determine the optimal sequence length.\n",
        "As we can see, length of 200 is enough to capture most of the reviews.\n"
      ]
    },
    {
      "cell_type": "code",
      "execution_count": null,
      "id": "2951e448",
      "metadata": {
        "colab": {
          "base_uri": "https://localhost:8080/"
        },
        "id": "2951e448",
        "outputId": "0aa81bf8-e971-4e87-f830-7deca96ce43b"
      },
      "outputs": [
        {
          "name": "stdout",
          "output_type": "stream",
          "text": [
            "Percentage of reviews fully captured with length 200: 80.78%\n"
          ]
        }
      ],
      "source": [
        "lengths = dataset.apply(lambda x: len(x.split()))\n",
        "percentage_captured = (lengths <= 200).mean() * 100\n",
        "\n",
        "print(f\"Percentage of reviews fully captured with length 200: {percentage_captured:.2f}%\")"
      ]
    },
    {
      "cell_type": "code",
      "execution_count": null,
      "id": "446b3082",
      "metadata": {
        "id": "446b3082"
      },
      "outputs": [],
      "source": [
        "from tensorflow.keras.layers import TextVectorization"
      ]
    },
    {
      "cell_type": "markdown",
      "id": "24380d5c",
      "metadata": {
        "id": "24380d5c"
      },
      "source": [
        "This function encodes the dataset using the vocabulary created above, and returns the encoded dataset, the encoding vocabulary, and the inverse vocabulary.\n"
      ]
    },
    {
      "cell_type": "code",
      "execution_count": null,
      "id": "08433dbb",
      "metadata": {
        "id": "08433dbb"
      },
      "outputs": [],
      "source": [
        "def encode_dataset(dataset: pd.Series, freq_voc: Dict[str, int]) -> Tuple[List[np.ndarray], List[str], Dict[int, str]]:\n",
        "    \"\"\"\n",
        "    Encode each word in the dataset, based on your vocabulary\n",
        "    :param: dataset: A pandas Series containing the text data to be encoded\n",
        "    :param: freq_voc: A dictionary containing word frequencies, used as the vocabulary\n",
        "    :return: the encoded dataset, the encoding vocabulary, and the inverse vocabulary\n",
        "    \"\"\"\n",
        "    # Convert the dataset to a tf.data.Dataset\n",
        "    text_ds = tf.data.Dataset.from_tensor_slices(dataset.values)\n",
        "\n",
        "    # Define the TextVectorization layer\n",
        "    max_tokens = len(freq_voc) + 2  # +2 for padding and unknown tokens\n",
        "    sequence_length = 200\n",
        "\n",
        "    vectorize_layer = TextVectorization(\n",
        "        max_tokens=max_tokens,\n",
        "        output_mode='int',\n",
        "        output_sequence_length=sequence_length,\n",
        "        vocabulary=list(freq_voc.keys())\n",
        "    )\n",
        "\n",
        "    # Get the vocabulary from the layer\n",
        "    encoding_vocabulary = vectorize_layer.get_vocabulary()\n",
        "\n",
        "    # Create the inverse vocabulary (index to word mapping)\n",
        "    inverse_vocabulary = dict(enumerate(encoding_vocabulary))\n",
        "\n",
        "    # Apply the vectorization to the dataset\n",
        "    encoded_ds = text_ds.map(vectorize_layer)\n",
        "\n",
        "    # Convert to a list of numpy arrays\n",
        "    encoded_dataset = list(encoded_ds.as_numpy_iterator())\n",
        "\n",
        "    return encoded_dataset, encoding_vocabulary, inverse_vocabulary\n",
        "\n",
        "# Use the function to encode the dataset and get vocabularies\n",
        "encoded_dataset, encoding_vocabulary, inverse_vocabulary = encode_dataset(dataset, freq_voc)"
      ]
    },
    {
      "cell_type": "markdown",
      "id": "fe3d850f",
      "metadata": {
        "id": "fe3d850f"
      },
      "source": [
        "Example of the encoding process:"
      ]
    },
    {
      "cell_type": "code",
      "execution_count": null,
      "id": "8835f240",
      "metadata": {
        "colab": {
          "base_uri": "https://localhost:8080/"
        },
        "id": "8835f240",
        "outputId": "b75e3f2b-65e4-4ef7-c572-ba5baaade295"
      },
      "outputs": [
        {
          "name": "stdout",
          "output_type": "stream",
          "text": [
            "\n",
            "First 10 words of the first sentence:\n",
            "'truly' -> 2 (truly)\n",
            "'is' -> 1 ([UNK])\n",
            "'jewel' -> 3 (jewel)\n",
            "'of' -> 1 ([UNK])\n",
            "'the' -> 1 ([UNK])\n",
            "'upper' -> 4 (upper)\n",
            "'wets' -> 1 ([UNK])\n",
            "'side' -> 5 (side)\n",
            "'stayed' -> 6 (stayed)\n",
            "'in' -> 1 ([UNK])\n"
          ]
        }
      ],
      "source": [
        "# Get the first row of the dataset\n",
        "example_sentence = dataset.iloc[0]\n",
        "\n",
        "# Split the sentence into words and take the first 10\n",
        "original_words = example_sentence.split()[:10]\n",
        "\n",
        "# Get the corresponding encoded values\n",
        "encoded_values = encoded_dataset[0][:10]\n",
        "\n",
        "print(\"\\nFirst 10 words of the first sentence:\")\n",
        "for original, encoded in zip(original_words, encoded_values):\n",
        "    print(f\"'{original}' -> {encoded} ({encoding_vocabulary[encoded]})\")"
      ]
    },
    {
      "cell_type": "markdown",
      "id": "EpjFMKZQIfsf",
      "metadata": {
        "id": "EpjFMKZQIfsf"
      },
      "source": [
        "-------"
      ]
    },
    {
      "cell_type": "markdown",
      "id": "3d1cb0a0-78a4-469a-8081-f325d97c8974",
      "metadata": {
        "id": "3d1cb0a0-78a4-469a-8081-f325d97c8974"
      },
      "source": [
        "## **Positive Pairs and Negative Samples**\n"
      ]
    },
    {
      "cell_type": "code",
      "execution_count": null,
      "id": "5ae6bbd8",
      "metadata": {
        "id": "5ae6bbd8"
      },
      "outputs": [],
      "source": [
        "from tqdm import tqdm"
      ]
    },
    {
      "cell_type": "markdown",
      "id": "3dafc4ca",
      "metadata": {
        "id": "3dafc4ca"
      },
      "source": [
        "We used more efficient types for the targets, contexts, and labels, in order to save memory. We need to cast them back to int32 when we use them in the model."
      ]
    },
    {
      "cell_type": "code",
      "execution_count": null,
      "id": "nkrAARd7TpjQ",
      "metadata": {
        "id": "nkrAARd7TpjQ"
      },
      "outputs": [],
      "source": [
        "def generate_training_data(\n",
        "    sequences: List[np.ndarray],\n",
        "    window_size: int,\n",
        "    num_ns: int,\n",
        "    vocab_size: int,\n",
        "    seed: int\n",
        ") -> Tuple[np.ndarray, np.ndarray, np.ndarray]:\n",
        "    \"\"\"\n",
        "    Generate skip-gram pairs with negative sampling for a list of sequences.\n",
        "\n",
        "    :param sequences: List of int-encoded sentences\n",
        "    :param window_size: Size of the window for positive context words\n",
        "    :param num_ns: Number of negative samples per positive context\n",
        "    :param vocab_size: Size of the vocabulary\n",
        "    :param seed: Random seed for reproducibility\n",
        "    :return: Numpy arrays of targets, contexts, and labels\n",
        "    \"\"\"\n",
        "    targets, contexts, labels = [], [], []\n",
        "\n",
        "    # Use np.uint16 for final numpy arrays\n",
        "    dtype = np.uint16\n",
        "\n",
        "    # Build the sampling table for `vocab_size` tokens\n",
        "    sampling_table = tf.keras.preprocessing.sequence.make_sampling_table(vocab_size)\n",
        "\n",
        "    # Iterate over all sequences (sentences) in the dataset\n",
        "    for sequence in tqdm(sequences):\n",
        "        # Generate positive skip-gram pairs for a sequence\n",
        "        positive_skip_grams, _ = tf.keras.preprocessing.sequence.skipgrams(\n",
        "            sequence,\n",
        "            vocabulary_size=vocab_size,\n",
        "            sampling_table=sampling_table,\n",
        "            window_size=window_size,\n",
        "            negative_samples=0)\n",
        "\n",
        "        # Iterate over each positive skip-gram pair to produce training examples\n",
        "        for target_word, context_word in positive_skip_grams:\n",
        "            context_class = tf.constant([context_word], dtype=\"int64\")\n",
        "            negative_sampling_candidates, _, _ = tf.random.log_uniform_candidate_sampler(\n",
        "                true_classes=tf.expand_dims(context_class, 1),\n",
        "                num_true=1,\n",
        "                num_sampled=num_ns,\n",
        "                unique=True,\n",
        "                range_max=vocab_size,\n",
        "                seed=seed,\n",
        "                name=\"negative_sampling\")\n",
        "\n",
        "            # Build context and label vectors (for one target word)\n",
        "            context = tf.concat([context_class, negative_sampling_candidates], 0)\n",
        "            label = tf.constant([1] + [0] * num_ns, dtype=\"int64\")\n",
        "\n",
        "            # Append each element from the training example to global lists\n",
        "            targets.append(target_word)\n",
        "            contexts.append(context.numpy())\n",
        "            labels.append(label.numpy())\n",
        "\n",
        "    return np.array(targets, dtype=dtype), np.array(contexts, dtype=dtype), np.array(labels, dtype=np.int8)"
      ]
    },
    {
      "cell_type": "markdown",
      "id": "5672b08c",
      "metadata": {
        "id": "5672b08c"
      },
      "source": [
        "We choose the following parameters:\n"
      ]
    },
    {
      "cell_type": "code",
      "execution_count": 16,
      "id": "4e811e0b",
      "metadata": {
        "id": "4e811e0b"
      },
      "outputs": [],
      "source": [
        "# For our usage\n",
        "WINDOW_SIZE = 2\n",
        "NEGATIVE_SAMPLES = 4\n",
        "SEED = 42\n",
        "vocab_size = len(encoding_vocabulary)"
      ]
    },
    {
      "cell_type": "code",
      "execution_count": null,
      "id": "IjhDEqSNPR-p",
      "metadata": {
        "colab": {
          "base_uri": "https://localhost:8080/"
        },
        "id": "IjhDEqSNPR-p",
        "outputId": "288006ed-97d5-48db-9f0e-8226fa7b90b1"
      },
      "outputs": [
        {
          "data": {
            "text/plain": [
              "22717"
            ]
          },
          "execution_count": 24,
          "metadata": {},
          "output_type": "execute_result"
        }
      ],
      "source": [
        "vocab_size"
      ]
    },
    {
      "cell_type": "code",
      "execution_count": null,
      "id": "9ymowB8yMj3J",
      "metadata": {
        "colab": {
          "base_uri": "https://localhost:8080/"
        },
        "id": "9ymowB8yMj3J",
        "outputId": "8fc81a12-9295-4a26-9979-1259387e016f"
      },
      "outputs": [
        {
          "name": "stderr",
          "output_type": "stream",
          "text": [
            "100%|██████████| 100000/100000 [47:28<00:00, 35.10it/s]\n"
          ]
        }
      ],
      "source": [
        "# Generate training data\n",
        "targets, contexts, labels = generate_training_data(\n",
        "    sequences=encoded_dataset,\n",
        "    window_size=WINDOW_SIZE,\n",
        "    num_ns=NEGATIVE_SAMPLES,\n",
        "    vocab_size=vocab_size,\n",
        "    seed=SEED\n",
        ")"
      ]
    },
    {
      "cell_type": "code",
      "execution_count": null,
      "id": "lg2PqpvJY6Mv",
      "metadata": {
        "colab": {
          "base_uri": "https://localhost:8080/"
        },
        "id": "lg2PqpvJY6Mv",
        "outputId": "1f844077-7130-4514-bda2-614c4c67207c"
      },
      "outputs": [
        {
          "name": "stdout",
          "output_type": "stream",
          "text": [
            "\n",
            "\n",
            "targets.shape: (9826613,)\n",
            "contexts.shape: (9826613, 5)\n",
            "labels.shape: (9826613, 5)\n"
          ]
        }
      ],
      "source": [
        "print(f\"targets.shape: {targets.shape}\")\n",
        "print(f\"contexts.shape: {contexts.shape}\")\n",
        "print(f\"labels.shape: {labels.shape}\")"
      ]
    },
    {
      "cell_type": "markdown",
      "id": "soFlYCoAIqIO",
      "metadata": {
        "id": "soFlYCoAIqIO"
      },
      "source": [
        "-------"
      ]
    },
    {
      "cell_type": "markdown",
      "id": "00c4ab2b-49f3-4a10-9236-c7da3fd79be6",
      "metadata": {
        "id": "00c4ab2b-49f3-4a10-9236-c7da3fd79be6"
      },
      "source": [
        "## **Model Definition**\n"
      ]
    },
    {
      "cell_type": "code",
      "execution_count": 4,
      "id": "I9ZciuS5usN3",
      "metadata": {
        "id": "I9ZciuS5usN3"
      },
      "outputs": [],
      "source": [
        "from tensorflow.keras import Model, layers, Input"
      ]
    },
    {
      "cell_type": "code",
      "execution_count": 5,
      "id": "5trqL9FCUl2o",
      "metadata": {
        "id": "5trqL9FCUl2o"
      },
      "outputs": [],
      "source": [
        "def create_word2vec_model(vocab_size: int, embedding_dim: int) -> Model:\n",
        "    # Input layers\n",
        "    target_input = Input(shape=(), dtype=tf.int32, name='target_input')\n",
        "    context_input = Input(shape=(None,), dtype=tf.int32, name='context_input')\n",
        "\n",
        "    # Embedding layers\n",
        "    target_embedding = layers.Embedding(vocab_size, embedding_dim, name=\"w2v_embedding\")(target_input)\n",
        "    context_embedding = layers.Embedding(vocab_size, embedding_dim, name=\"context_embedding\")(context_input)\n",
        "\n",
        "    # Compute dot product\n",
        "    dots = layers.Dot(axes=(1, 2))([target_embedding, context_embedding])\n",
        "\n",
        "    # Create and return the model\n",
        "    model = Model(inputs=[target_input, context_input], outputs=dots)\n",
        "    return model"
      ]
    },
    {
      "cell_type": "code",
      "execution_count": 8,
      "id": "jIEF9BXmRGgJ",
      "metadata": {
        "id": "jIEF9BXmRGgJ"
      },
      "outputs": [],
      "source": [
        "# Define model parameters\n",
        "vocab_size = len(encoding_vocabulary)\n",
        "embedding_dim = 50"
      ]
    },
    {
      "cell_type": "code",
      "execution_count": 10,
      "id": "VhPr4DXcfgAk",
      "metadata": {
        "id": "VhPr4DXcfgAk"
      },
      "outputs": [],
      "source": [
        "# Instantiate the model\n",
        "model = create_word2vec_model(vocab_size, embedding_dim)\n",
        "\n",
        "# Compile the model\n",
        "model.compile(optimizer='adam',\n",
        "              loss=tf.keras.losses.BinaryCrossentropy(from_logits=True),\n",
        "              metrics=['accuracy'])"
      ]
    },
    {
      "cell_type": "markdown",
      "id": "d469f174",
      "metadata": {
        "id": "d469f174"
      },
      "source": [
        "------"
      ]
    },
    {
      "cell_type": "markdown",
      "id": "f1de30c9-ba08-47aa-8cfb-bd05652d7aa8",
      "metadata": {
        "id": "f1de30c9-ba08-47aa-8cfb-bd05652d7aa8"
      },
      "source": [
        "## **Training The Model**"
      ]
    },
    {
      "cell_type": "markdown",
      "id": "180100ba",
      "metadata": {
        "id": "180100ba"
      },
      "source": [
        "### <u>Training:</u>"
      ]
    },
    {
      "cell_type": "code",
      "execution_count": 13,
      "id": "pMfcRnzxsWCX",
      "metadata": {
        "id": "pMfcRnzxsWCX"
      },
      "outputs": [],
      "source": [
        "# Define constants\n",
        "EPOCHS = 10\n",
        "BATCH_SIZE = 1024\n",
        "BUFFER_SIZE = 10000\n",
        "AUTOTUNE = tf.data.AUTOTUNE\n",
        "\n",
        "# Function to cast the types\n",
        "def cast_types(x, y):\n",
        "    return (tf.cast(x[0], tf.int32), tf.cast(x[1], tf.int32)), tf.cast(y, tf.float32)\n",
        "\n",
        "# Create the dataset from our targets, contexts, and labels\n",
        "training_data = tf.data.Dataset.from_tensor_slices(((targets, contexts), labels))\n",
        "\n",
        "# Apply type casting\n",
        "training_data = training_data.map(cast_types, num_parallel_calls=AUTOTUNE)\n",
        "\n",
        "# Shuffle and batch the dataset\n",
        "training_data = training_data.shuffle(BUFFER_SIZE).batch(BATCH_SIZE, drop_remainder=True)\n",
        "\n",
        "# Cache and prefetch for better performance\n",
        "training_data = training_data.cache().prefetch(buffer_size=AUTOTUNE)"
      ]
    },
    {
      "cell_type": "code",
      "execution_count": 14,
      "id": "LwnIOHQMZOTM",
      "metadata": {
        "colab": {
          "base_uri": "https://localhost:8080/"
        },
        "id": "LwnIOHQMZOTM",
        "outputId": "53cea022-cf31-4995-d3c9-12436dfeeb9e"
      },
      "outputs": [
        {
          "name": "stdout",
          "output_type": "stream",
          "text": [
            "<_PrefetchDataset element_spec=((TensorSpec(shape=(1024,), dtype=tf.int32, name=None), TensorSpec(shape=(1024, 5), dtype=tf.int32, name=None)), TensorSpec(shape=(1024, 5), dtype=tf.float32, name=None))>\n"
          ]
        }
      ],
      "source": [
        "print(training_data)"
      ]
    },
    {
      "cell_type": "code",
      "execution_count": 17,
      "id": "l7lTcU4s4Wuj",
      "metadata": {
        "id": "l7lTcU4s4Wuj"
      },
      "outputs": [],
      "source": [
        "# Set up callbacks\n",
        "tensorboard_callback = tf.keras.callbacks.TensorBoard(log_dir=\"model_logs\")\n",
        "\n",
        "checkpoint_cb = tf.keras.callbacks.ModelCheckpoint(\n",
        "    filepath=f\"word2vec_model_w{WINDOW_SIZE}_ns{NEGATIVE_SAMPLES}_ckpt.keras\",\n",
        "    monitor='loss',\n",
        "    save_best_only=True\n",
        ")\n",
        "\n",
        "early_stopping_cb = tf.keras.callbacks.EarlyStopping(\n",
        "    patience=3,\n",
        "    restore_best_weights=True,\n",
        "    monitor='accuracy'\n",
        ")"
      ]
    },
    {
      "cell_type": "code",
      "execution_count": 18,
      "id": "f75e47b8",
      "metadata": {
        "colab": {
          "base_uri": "https://localhost:8080/"
        },
        "id": "f75e47b8",
        "outputId": "6fc4e1bc-8683-43cd-d2cd-d927a41cfc43"
      },
      "outputs": [
        {
          "name": "stdout",
          "output_type": "stream",
          "text": [
            "Epoch 1/10\n",
            "\u001b[1m9596/9596\u001b[0m \u001b[32m━━━━━━━━━━━━━━━━━━━━\u001b[0m\u001b[37m\u001b[0m \u001b[1m620s\u001b[0m 64ms/step - accuracy: 0.6809 - loss: 0.3628\n",
            "Epoch 2/10\n",
            "\u001b[1m9596/9596\u001b[0m \u001b[32m━━━━━━━━━━━━━━━━━━━━\u001b[0m\u001b[37m\u001b[0m \u001b[1m217s\u001b[0m 23ms/step - accuracy: 0.7865 - loss: 0.2643\n",
            "Epoch 3/10\n",
            "\u001b[1m9596/9596\u001b[0m \u001b[32m━━━━━━━━━━━━━━━━━━━━\u001b[0m\u001b[37m\u001b[0m \u001b[1m220s\u001b[0m 23ms/step - accuracy: 0.8057 - loss: 0.2500\n",
            "Epoch 4/10\n",
            "\u001b[1m9596/9596\u001b[0m \u001b[32m━━━━━━━━━━━━━━━━━━━━\u001b[0m\u001b[37m\u001b[0m \u001b[1m215s\u001b[0m 22ms/step - accuracy: 0.8143 - loss: 0.2433\n",
            "Epoch 5/10\n",
            "\u001b[1m9596/9596\u001b[0m \u001b[32m━━━━━━━━━━━━━━━━━━━━\u001b[0m\u001b[37m\u001b[0m \u001b[1m216s\u001b[0m 23ms/step - accuracy: 0.8195 - loss: 0.2392\n",
            "Epoch 6/10\n",
            "\u001b[1m9596/9596\u001b[0m \u001b[32m━━━━━━━━━━━━━━━━━━━━\u001b[0m\u001b[37m\u001b[0m \u001b[1m220s\u001b[0m 23ms/step - accuracy: 0.8229 - loss: 0.2362\n",
            "Epoch 7/10\n",
            "\u001b[1m9596/9596\u001b[0m \u001b[32m━━━━━━━━━━━━━━━━━━━━\u001b[0m\u001b[37m\u001b[0m \u001b[1m262s\u001b[0m 23ms/step - accuracy: 0.8255 - loss: 0.2340\n",
            "Epoch 8/10\n",
            "\u001b[1m9596/9596\u001b[0m \u001b[32m━━━━━━━━━━━━━━━━━━━━\u001b[0m\u001b[37m\u001b[0m \u001b[1m212s\u001b[0m 22ms/step - accuracy: 0.8275 - loss: 0.2322\n",
            "Epoch 9/10\n",
            "\u001b[1m9596/9596\u001b[0m \u001b[32m━━━━━━━━━━━━━━━━━━━━\u001b[0m\u001b[37m\u001b[0m \u001b[1m206s\u001b[0m 21ms/step - accuracy: 0.8291 - loss: 0.2308\n",
            "Epoch 10/10\n",
            "\u001b[1m9596/9596\u001b[0m \u001b[32m━━━━━━━━━━━━━━━━━━━━\u001b[0m\u001b[37m\u001b[0m \u001b[1m277s\u001b[0m 23ms/step - accuracy: 0.8304 - loss: 0.2296\n",
            "Model saved successfully!\n"
          ]
        }
      ],
      "source": [
        "# Train the model\n",
        "history = model.fit(training_data, epochs=EPOCHS)\n",
        "\n",
        "# Save the final model\n",
        "model.save(f\"word2vec_model_w{WINDOW_SIZE}_ns{NEGATIVE_SAMPLES}.keras\", include_optimizer=True)\n",
        "\n",
        "print(\"Model saved successfully!\")"
      ]
    },
    {
      "cell_type": "markdown",
      "id": "04dc0bef",
      "metadata": {
        "id": "04dc0bef"
      },
      "source": [
        "### <u>Save the Embeddings:</u>\n"
      ]
    },
    {
      "cell_type": "code",
      "execution_count": null,
      "id": "KyuCxibrwTGh",
      "metadata": {
        "colab": {
          "base_uri": "https://localhost:8080/"
        },
        "id": "KyuCxibrwTGh",
        "outputId": "62f36077-7979-49f9-8d41-8dd3c7d492b5"
      },
      "outputs": [
        {
          "name": "stdout",
          "output_type": "stream",
          "text": [
            "First 10 items in encoding_vocabulary:\n",
            "\n",
            "[UNK]\n",
            "truly\n",
            "jewel\n",
            "upper\n",
            "side\n",
            "stayed\n",
            "a\n",
            "king\n",
            "suite\n"
          ]
        }
      ],
      "source": [
        "# Print the first 10 values of encoding_vocabulary\n",
        "print(\"First 10 items in encoding_vocabulary:\")\n",
        "for item in encoding_vocabulary[:10]:\n",
        "    print(item)"
      ]
    },
    {
      "cell_type": "markdown",
      "id": "c7f3d3d3",
      "metadata": {
        "id": "c7f3d3d3"
      },
      "source": [
        "As we can see, the first word in the vocabulary is \"<pad>\" - padding token, so we will start from the second word, when saving the embeddings.\n"
      ]
    },
    {
      "cell_type": "code",
      "execution_count": 4,
      "id": "UrCKAnJwvck0",
      "metadata": {
        "id": "UrCKAnJwvck0"
      },
      "outputs": [],
      "source": [
        "import pyarrow as pa\n",
        "import pyarrow.parquet as pq"
      ]
    },
    {
      "cell_type": "code",
      "execution_count": 20,
      "id": "46778d77-bc61-4c4f-8d68-dc39650a2f23",
      "metadata": {
        "id": "46778d77-bc61-4c4f-8d68-dc39650a2f23"
      },
      "outputs": [],
      "source": [
        "def save_embeddings(model: tf.keras.Model, vocabulary: List[str], path: str) -> None:\n",
        "    \"\"\"\n",
        "    Save the embeddings\n",
        "    param: model: the trained tf model\n",
        "    param: vocabulary: list of tokens\n",
        "    param: path: the path to save the embeddings map\n",
        "    \"\"\"\n",
        "    # Get the embeddings from the model\n",
        "    embeddings = model.get_layer(\"w2v_embedding\").get_weights()[0]\n",
        "\n",
        "    # Create a dictionary to store the embeddings\n",
        "    embedding_dict = {}\n",
        "\n",
        "    # Iterate through the vocabulary and embeddings, starting from index 1\n",
        "    for word, embed in zip(vocabulary[1:], embeddings[1:]):\n",
        "        embedding_dict[word] = embed\n",
        "\n",
        "    # Convert the dictionary to a pandas DataFrame\n",
        "    df = pd.DataFrame.from_dict(embedding_dict, orient='index')\n",
        "\n",
        "    # Convert the pandas DataFrame to a PyArrow Table\n",
        "    table = pa.Table.from_pandas(df)\n",
        "\n",
        "    # Write the PyArrow Table to a Parquet file\n",
        "    pq.write_table(table, path)\n",
        "\n",
        "    print(f\"Embeddings saved successfully to {path}\")"
      ]
    },
    {
      "cell_type": "code",
      "execution_count": 21,
      "id": "48f96a55",
      "metadata": {
        "colab": {
          "base_uri": "https://localhost:8080/"
        },
        "id": "48f96a55",
        "outputId": "1849f95f-dcfa-4dfa-81a1-6d7a21ce6b36"
      },
      "outputs": [
        {
          "name": "stdout",
          "output_type": "stream",
          "text": [
            "Embeddings saved successfully to word2vec_embeddings_os.parquet\n"
          ]
        }
      ],
      "source": [
        "# For our usage\n",
        "save_embeddings(model, encoding_vocabulary, \"word2vec_embeddings_os.parquet\")"
      ]
    },
    {
      "cell_type": "markdown",
      "id": "1a993f9e",
      "metadata": {
        "id": "1a993f9e"
      },
      "source": [
        "--------"
      ]
    },
    {
      "cell_type": "markdown",
      "id": "8fd18f62-3ec2-4707-98f5-8075e6ec8945",
      "metadata": {
        "id": "8fd18f62-3ec2-4707-98f5-8075e6ec8945"
      },
      "source": [
        "## **Find Most Similar - Show Time!**\n"
      ]
    },
    {
      "cell_type": "markdown",
      "id": "32ddac17",
      "metadata": {
        "id": "32ddac17"
      },
      "source": [
        "### Run this cell first:\n"
      ]
    },
    {
      "cell_type": "code",
      "execution_count": 1,
      "id": "e583823f",
      "metadata": {
        "id": "e583823f"
      },
      "outputs": [],
      "source": [
        "import numpy as np\n",
        "import pandas as pd\n",
        "import pyarrow.parquet as pq\n",
        "from scipy.spatial.distance import cosine\n",
        "\n",
        "# Load embeddings outside the function\n",
        "table = pq.read_table(\"word2vec_embeddings_os.parquet\")\n",
        "embeddings = table.to_pandas()\n",
        "\n",
        "# Pre-compute norms for all embeddings\n",
        "norms = np.linalg.norm(embeddings.values, axis=1)\n",
        "\n",
        "def find_most_similar(word: str, k: int = 10) -> pd.DataFrame:\n",
        "    \"\"\"\n",
        "    Find most similar tokens to word\n",
        "    param: word: the word to find most similar words to\n",
        "    k: number of most similar words\n",
        "    \"\"\"\n",
        "    # Check if the word is in the vocabulary\n",
        "    if word not in embeddings.index:\n",
        "        return pd.DataFrame({\"Similar Word\": [\"Word not found in vocabulary\"], \"Cosine Similarity\": [0.0]})\n",
        "\n",
        "    # Get the embedding for the input word\n",
        "    word_embedding = embeddings.loc[word].values\n",
        "\n",
        "    # Compute dot products\n",
        "    dot_products = np.dot(embeddings.values, word_embedding)\n",
        "\n",
        "    # Compute cosine similarities using pre-computed norms\n",
        "    similarities = dot_products / (norms * np.linalg.norm(word_embedding))\n",
        "\n",
        "    # Sort similarities and get top k (excluding the word itself)\n",
        "    most_similar = pd.Series(similarities, index=embeddings.index).sort_values(ascending=False)[1:k+1]\n",
        "\n",
        "    # Create and return DataFrame\n",
        "    result_df = pd.DataFrame({\n",
        "        \"Similar Word\": most_similar.index,\n",
        "        \"Cosine Similarity\": most_similar.values.round(5)\n",
        "    })\n",
        "\n",
        "    return result_df"
      ]
    },
    {
      "cell_type": "markdown",
      "id": "33a7373f",
      "metadata": {
        "id": "33a7373f"
      },
      "source": [
        "### Then you can run this cell (filling in YOUR_WORD as you wish):"
      ]
    },
    {
      "cell_type": "code",
      "execution_count": null,
      "id": "4440a4cd",
      "metadata": {},
      "outputs": [],
      "source": [
        "# Here goes your code\n",
        "YOUR_WORD = \"\"\n",
        "\n",
        "display(find_most_similar(YOUR_WORD, k=10))"
      ]
    },
    {
      "cell_type": "markdown",
      "id": "08d43d17",
      "metadata": {
        "id": "08d43d17"
      },
      "source": [
        "**Examples for subjects to look for:** food, locations, hotel stuff, etc."
      ]
    },
    {
      "cell_type": "markdown",
      "id": "A70iKVUbNjeH",
      "metadata": {
        "id": "A70iKVUbNjeH"
      },
      "source": [
        "### <u>Some cool examples:</u>"
      ]
    },
    {
      "cell_type": "code",
      "execution_count": 2,
      "id": "EoF5QHUONOOb",
      "metadata": {
        "colab": {
          "base_uri": "https://localhost:8080/",
          "height": 363
        },
        "id": "EoF5QHUONOOb",
        "outputId": "92ac9c75-b2cc-4b15-fd5f-1fc6bdca93fa"
      },
      "outputs": [
        {
          "data": {
            "text/html": [
              "<div>\n",
              "<style scoped>\n",
              "    .dataframe tbody tr th:only-of-type {\n",
              "        vertical-align: middle;\n",
              "    }\n",
              "\n",
              "    .dataframe tbody tr th {\n",
              "        vertical-align: top;\n",
              "    }\n",
              "\n",
              "    .dataframe thead th {\n",
              "        text-align: right;\n",
              "    }\n",
              "</style>\n",
              "<table border=\"1\" class=\"dataframe\">\n",
              "  <thead>\n",
              "    <tr style=\"text-align: right;\">\n",
              "      <th></th>\n",
              "      <th>Similar Word</th>\n",
              "      <th>Cosine Similarity</th>\n",
              "    </tr>\n",
              "  </thead>\n",
              "  <tbody>\n",
              "    <tr>\n",
              "      <th>0</th>\n",
              "      <td>healthy</td>\n",
              "      <td>0.74038</td>\n",
              "    </tr>\n",
              "    <tr>\n",
              "      <th>1</th>\n",
              "      <td>breakfasts</td>\n",
              "      <td>0.70434</td>\n",
              "    </tr>\n",
              "    <tr>\n",
              "      <th>2</th>\n",
              "      <td>brekkie</td>\n",
              "      <td>0.70215</td>\n",
              "    </tr>\n",
              "    <tr>\n",
              "      <th>3</th>\n",
              "      <td>breakfast</td>\n",
              "      <td>0.69849</td>\n",
              "    </tr>\n",
              "    <tr>\n",
              "      <th>4</th>\n",
              "      <td>bakeries</td>\n",
              "      <td>0.68851</td>\n",
              "    </tr>\n",
              "    <tr>\n",
              "      <th>5</th>\n",
              "      <td>buns</td>\n",
              "      <td>0.68195</td>\n",
              "    </tr>\n",
              "    <tr>\n",
              "      <th>6</th>\n",
              "      <td>meals</td>\n",
              "      <td>0.67846</td>\n",
              "    </tr>\n",
              "    <tr>\n",
              "      <th>7</th>\n",
              "      <td>omlette</td>\n",
              "      <td>0.65963</td>\n",
              "    </tr>\n",
              "    <tr>\n",
              "      <th>8</th>\n",
              "      <td>gourmet</td>\n",
              "      <td>0.65807</td>\n",
              "    </tr>\n",
              "    <tr>\n",
              "      <th>9</th>\n",
              "      <td>organic</td>\n",
              "      <td>0.65679</td>\n",
              "    </tr>\n",
              "  </tbody>\n",
              "</table>\n",
              "</div>"
            ],
            "text/plain": [
              "  Similar Word  Cosine Similarity\n",
              "0      healthy            0.74038\n",
              "1   breakfasts            0.70434\n",
              "2      brekkie            0.70215\n",
              "3    breakfast            0.69849\n",
              "4     bakeries            0.68851\n",
              "5         buns            0.68195\n",
              "6        meals            0.67846\n",
              "7      omlette            0.65963\n",
              "8      gourmet            0.65807\n",
              "9      organic            0.65679"
            ]
          },
          "metadata": {},
          "output_type": "display_data"
        }
      ],
      "source": [
        "display(find_most_similar(\"food\", k=10))"
      ]
    },
    {
      "cell_type": "code",
      "execution_count": 6,
      "id": "DTMP10BhNWX5",
      "metadata": {
        "colab": {
          "base_uri": "https://localhost:8080/",
          "height": 363
        },
        "id": "DTMP10BhNWX5",
        "outputId": "6020be29-a096-4ba4-c094-92e31f4bcf2c"
      },
      "outputs": [
        {
          "data": {
            "text/html": [
              "<div>\n",
              "<style scoped>\n",
              "    .dataframe tbody tr th:only-of-type {\n",
              "        vertical-align: middle;\n",
              "    }\n",
              "\n",
              "    .dataframe tbody tr th {\n",
              "        vertical-align: top;\n",
              "    }\n",
              "\n",
              "    .dataframe thead th {\n",
              "        text-align: right;\n",
              "    }\n",
              "</style>\n",
              "<table border=\"1\" class=\"dataframe\">\n",
              "  <thead>\n",
              "    <tr style=\"text-align: right;\">\n",
              "      <th></th>\n",
              "      <th>Similar Word</th>\n",
              "      <th>Cosine Similarity</th>\n",
              "    </tr>\n",
              "  </thead>\n",
              "  <tbody>\n",
              "    <tr>\n",
              "      <th>0</th>\n",
              "      <td>tidy</td>\n",
              "      <td>0.87418</td>\n",
              "    </tr>\n",
              "    <tr>\n",
              "      <th>1</th>\n",
              "      <td>immaculate</td>\n",
              "      <td>0.85214</td>\n",
              "    </tr>\n",
              "    <tr>\n",
              "      <th>2</th>\n",
              "      <td>comfortable</td>\n",
              "      <td>0.85058</td>\n",
              "    </tr>\n",
              "    <tr>\n",
              "      <th>3</th>\n",
              "      <td>spotless</td>\n",
              "      <td>0.82655</td>\n",
              "    </tr>\n",
              "    <tr>\n",
              "      <th>4</th>\n",
              "      <td>pristine</td>\n",
              "      <td>0.80262</td>\n",
              "    </tr>\n",
              "    <tr>\n",
              "      <th>5</th>\n",
              "      <td>immaculately</td>\n",
              "      <td>0.78305</td>\n",
              "    </tr>\n",
              "    <tr>\n",
              "      <th>6</th>\n",
              "      <td>functional</td>\n",
              "      <td>0.78280</td>\n",
              "    </tr>\n",
              "    <tr>\n",
              "      <th>7</th>\n",
              "      <td>modernly</td>\n",
              "      <td>0.76391</td>\n",
              "    </tr>\n",
              "    <tr>\n",
              "      <th>8</th>\n",
              "      <td>spotlessly</td>\n",
              "      <td>0.76143</td>\n",
              "    </tr>\n",
              "    <tr>\n",
              "      <th>9</th>\n",
              "      <td>wellmaintained</td>\n",
              "      <td>0.76079</td>\n",
              "    </tr>\n",
              "  </tbody>\n",
              "</table>\n",
              "</div>"
            ],
            "text/plain": [
              "     Similar Word  Cosine Similarity\n",
              "0            tidy            0.87418\n",
              "1      immaculate            0.85214\n",
              "2     comfortable            0.85058\n",
              "3        spotless            0.82655\n",
              "4        pristine            0.80262\n",
              "5    immaculately            0.78305\n",
              "6      functional            0.78280\n",
              "7        modernly            0.76391\n",
              "8      spotlessly            0.76143\n",
              "9  wellmaintained            0.76079"
            ]
          },
          "metadata": {},
          "output_type": "display_data"
        }
      ],
      "source": [
        "display(find_most_similar(\"clean\", k=10))"
      ]
    },
    {
      "cell_type": "code",
      "execution_count": 7,
      "id": "4304bfbf",
      "metadata": {},
      "outputs": [
        {
          "data": {
            "text/html": [
              "<div>\n",
              "<style scoped>\n",
              "    .dataframe tbody tr th:only-of-type {\n",
              "        vertical-align: middle;\n",
              "    }\n",
              "\n",
              "    .dataframe tbody tr th {\n",
              "        vertical-align: top;\n",
              "    }\n",
              "\n",
              "    .dataframe thead th {\n",
              "        text-align: right;\n",
              "    }\n",
              "</style>\n",
              "<table border=\"1\" class=\"dataframe\">\n",
              "  <thead>\n",
              "    <tr style=\"text-align: right;\">\n",
              "      <th></th>\n",
              "      <th>Similar Word</th>\n",
              "      <th>Cosine Similarity</th>\n",
              "    </tr>\n",
              "  </thead>\n",
              "  <tbody>\n",
              "    <tr>\n",
              "      <th>0</th>\n",
              "      <td>mom</td>\n",
              "      <td>0.76540</td>\n",
              "    </tr>\n",
              "    <tr>\n",
              "      <th>1</th>\n",
              "      <td>father</td>\n",
              "      <td>0.75355</td>\n",
              "    </tr>\n",
              "    <tr>\n",
              "      <th>2</th>\n",
              "      <td>mother</td>\n",
              "      <td>0.74996</td>\n",
              "    </tr>\n",
              "    <tr>\n",
              "      <th>3</th>\n",
              "      <td>mum</td>\n",
              "      <td>0.70993</td>\n",
              "    </tr>\n",
              "    <tr>\n",
              "      <th>4</th>\n",
              "      <td>niece</td>\n",
              "      <td>0.70649</td>\n",
              "    </tr>\n",
              "    <tr>\n",
              "      <th>5</th>\n",
              "      <td>friend</td>\n",
              "      <td>0.66846</td>\n",
              "    </tr>\n",
              "    <tr>\n",
              "      <th>6</th>\n",
              "      <td>sister</td>\n",
              "      <td>0.66446</td>\n",
              "    </tr>\n",
              "    <tr>\n",
              "      <th>7</th>\n",
              "      <td>cousin</td>\n",
              "      <td>0.66015</td>\n",
              "    </tr>\n",
              "    <tr>\n",
              "      <th>8</th>\n",
              "      <td>teenage</td>\n",
              "      <td>0.65696</td>\n",
              "    </tr>\n",
              "    <tr>\n",
              "      <th>9</th>\n",
              "      <td>aunt</td>\n",
              "      <td>0.65671</td>\n",
              "    </tr>\n",
              "  </tbody>\n",
              "</table>\n",
              "</div>"
            ],
            "text/plain": [
              "  Similar Word  Cosine Similarity\n",
              "0          mom            0.76540\n",
              "1       father            0.75355\n",
              "2       mother            0.74996\n",
              "3          mum            0.70993\n",
              "4        niece            0.70649\n",
              "5       friend            0.66846\n",
              "6       sister            0.66446\n",
              "7       cousin            0.66015\n",
              "8      teenage            0.65696\n",
              "9         aunt            0.65671"
            ]
          },
          "metadata": {},
          "output_type": "display_data"
        }
      ],
      "source": [
        "display(find_most_similar(\"dad\", k=10))"
      ]
    },
    {
      "cell_type": "markdown",
      "id": "05e5a598",
      "metadata": {
        "id": "05e5a598"
      },
      "source": [
        "----------"
      ]
    },
    {
      "cell_type": "markdown",
      "id": "aa43790f-8dce-4aea-823d-811485bff72e",
      "metadata": {
        "id": "aa43790f-8dce-4aea-823d-811485bff72e"
      },
      "source": [
        "## **Dimensionality Reduction**\n"
      ]
    },
    {
      "cell_type": "code",
      "execution_count": 1,
      "id": "795f8ba7",
      "metadata": {
        "id": "795f8ba7"
      },
      "outputs": [],
      "source": [
        "from sklearn.decomposition import PCA"
      ]
    },
    {
      "cell_type": "code",
      "execution_count": 48,
      "id": "55063887",
      "metadata": {
        "id": "55063887"
      },
      "outputs": [],
      "source": [
        "# Load embeddings\n",
        "table = pq.read_table(\"word2vec_embeddings_os.parquet\")\n",
        "embeddings = table.to_pandas()\n",
        "\n",
        "# Perform PCA\n",
        "pca = PCA(n_components=2)\n",
        "embeddings_2d = pca.fit_transform(embeddings)\n",
        "\n",
        "# Create a DataFrame with the 2D embeddings\n",
        "df_2d = pd.DataFrame(embeddings_2d, index=embeddings.index, columns=['x', 'y'])"
      ]
    },
    {
      "cell_type": "markdown",
      "id": "563371cf",
      "metadata": {
        "id": "563371cf"
      },
      "source": [
        "We used our find_most_similar function to explore the relationships between words in the embedding space.\n"
      ]
    },
    {
      "cell_type": "markdown",
      "id": "31faade4",
      "metadata": {
        "id": "31faade4"
      },
      "source": [
        "These are the categories and words we chose to visualize, in order to get a sense of the embedding space:"
      ]
    },
    {
      "cell_type": "code",
      "execution_count": 14,
      "id": "b569edbd",
      "metadata": {},
      "outputs": [],
      "source": [
        "# Define word categories\n",
        "categories = {\n",
        "    'Food & Drinks': ['breakfast', 'food', 'coffee','water'],\n",
        "    'Colors': ['red', 'green', 'black', 'white'],\n",
        "    'Countries': ['brazil', 'india'],\n",
        "    'Cities': ['tokyo', 'london'],\n",
        "    'Accommodation': ['hotel', 'suite'],\n",
        "    'Bedding': ['pillow', 'blanket'],\n",
        "    'Transportation': ['subway', 'airport']\n",
        "}"
      ]
    },
    {
      "cell_type": "code",
      "execution_count": 7,
      "id": "9cefb4ec",
      "metadata": {
        "id": "9cefb4ec"
      },
      "outputs": [],
      "source": [
        "import matplotlib.colors as mcolors"
      ]
    },
    {
      "cell_type": "code",
      "execution_count": 15,
      "id": "f9e09a68",
      "metadata": {},
      "outputs": [
        {
          "data": {
            "image/png": "[encoded data removed]",
            "text/plain": [
              "<Figure size 800x600 with 1 Axes>"
            ]
          },
          "metadata": {},
          "output_type": "display_data"
        }
      ],
      "source": [
        "# Create the plot\n",
        "plt.figure(figsize=(8, 6))\n",
        "\n",
        "# Define a color map for categories\n",
        "color_map = plt.colormaps['tab10']\n",
        "\n",
        "for i, (category, words) in enumerate(categories.items()):\n",
        "    color = color_map(i / len(categories))\n",
        "    for word in words:\n",
        "        if word in df_2d.index:\n",
        "            x, y = df_2d.loc[word]\n",
        "            plt.scatter(x, y, c=[color], label=category if word == words[0] else \"\", s=40)\n",
        "            plt.annotate(word, (x, y), xytext=(2, 1), textcoords='offset points', fontsize=9, fontweight='bold')\n",
        "\n",
        "plt.title(\"Word Embeddings Visualization\", fontsize=16)\n",
        "plt.legend(bbox_to_anchor=(1.05, 1), loc='upper left', fontsize=8)\n",
        "plt.tight_layout()\n",
        "plt.show()"
      ]
    },
    {
      "cell_type": "markdown",
      "id": "4a091723",
      "metadata": {
        "id": "4a091723"
      },
      "source": [
        "In the plot above, we can see that words that are related to each other are close to each other in the embedding space, which is good.\n"
      ]
    },
    {
      "cell_type": "markdown",
      "id": "a27352d4",
      "metadata": {
        "id": "a27352d4"
      },
      "source": [
        "---------"
      ]
    },
    {
      "cell_type": "markdown",
      "id": "029273f8",
      "metadata": {
        "id": "029273f8"
      },
      "source": [
        "## **Clustering - Bonus!**"
      ]
    },
    {
      "cell_type": "markdown",
      "id": "66ba2581",
      "metadata": {
        "id": "66ba2581"
      },
      "source": [
        "### <u>Elbow Method:</u>"
      ]
    },
    {
      "cell_type": "code",
      "execution_count": 81,
      "id": "5c4b89ec",
      "metadata": {
        "id": "5c4b89ec"
      },
      "outputs": [],
      "source": [
        "from sklearn.cluster import KMeans\n",
        "from sklearn.preprocessing import StandardScaler"
      ]
    },
    {
      "cell_type": "code",
      "execution_count": 82,
      "id": "9f11640d",
      "metadata": {
        "id": "9f11640d"
      },
      "outputs": [],
      "source": [
        "# Normalize the embeddings\n",
        "scaler = StandardScaler()\n",
        "normalized_embeddings = scaler.fit_transform(embeddings)"
      ]
    },
    {
      "cell_type": "markdown",
      "id": "bbcff236",
      "metadata": {
        "id": "bbcff236"
      },
      "source": [
        "We want to find the optimal number of clusters, using the elbow method:"
      ]
    },
    {
      "cell_type": "code",
      "execution_count": null,
      "id": "4e7fd21d",
      "metadata": {
        "id": "4e7fd21d",
        "outputId": "cd7bb93b-b754-4572-93aa-2ebefba2a1eb"
      },
      "outputs": [
        {
          "data": {
            "image/png": "[encoded data removed]",
            "text/plain": [
              "<Figure size 1000x600 with 1 Axes>"
            ]
          },
          "metadata": {},
          "output_type": "display_data"
        }
      ],
      "source": [
        "inertias = []\n",
        "k_range = range(2, 16)\n",
        "\n",
        "for k in k_range:\n",
        "    kmeans = KMeans(n_clusters=k, random_state=42, n_init=10)\n",
        "    kmeans.fit(normalized_embeddings)\n",
        "    inertias.append(kmeans.inertia_)\n",
        "\n",
        "plt.figure(figsize=(10, 6))\n",
        "plt.plot(k_range, inertias, 'bx-')\n",
        "plt.xlabel('k')\n",
        "plt.ylabel('Inertia')\n",
        "plt.title('Elbow Method For Optimal k')\n",
        "plt.show()"
      ]
    },
    {
      "cell_type": "markdown",
      "id": "fceef8aa",
      "metadata": {
        "id": "fceef8aa"
      },
      "source": [
        "It looks like the elbow is at k=5, which would be a good number of clusters.\n"
      ]
    },
    {
      "cell_type": "markdown",
      "id": "127b6ab1",
      "metadata": {
        "id": "127b6ab1"
      },
      "source": [
        "### <u>K-means Clustering:</u>\n"
      ]
    },
    {
      "cell_type": "code",
      "execution_count": 55,
      "id": "2a6ab1ee",
      "metadata": {
        "id": "2a6ab1ee"
      },
      "outputs": [],
      "source": [
        "# Perform K-means clustering\n",
        "n_clusters = 5\n",
        "kmeans = KMeans(n_clusters=n_clusters, random_state=42, n_init=10)\n",
        "cluster_labels = kmeans.fit_predict(normalized_embeddings)\n",
        "\n",
        "# Add cluster labels to the 2D embeddings dataframe\n",
        "df_2d['Cluster'] = cluster_labels\n",
        "\n",
        "# Calculate centroids\n",
        "centroids = kmeans.cluster_centers_"
      ]
    },
    {
      "cell_type": "markdown",
      "id": "FvPARyawTxcj",
      "metadata": {
        "id": "FvPARyawTxcj"
      },
      "source": [
        "### <u>Clusters Analysis:</u>\n"
      ]
    },
    {
      "cell_type": "code",
      "execution_count": 35,
      "id": "61cc30eb",
      "metadata": {
        "id": "61cc30eb"
      },
      "outputs": [],
      "source": [
        "from scipy.spatial.distance import cdist"
      ]
    },
    {
      "cell_type": "markdown",
      "id": "2c66dd83",
      "metadata": {
        "id": "2c66dd83"
      },
      "source": [
        "We want to find labels for the clusters, using the closest words to the centroids. But we want the words to be important, so we will also take into account their frequency in the dataset.\n"
      ]
    },
    {
      "cell_type": "code",
      "execution_count": 45,
      "id": "kXVwau5ROmp6",
      "metadata": {
        "colab": {
          "base_uri": "https://localhost:8080/"
        },
        "id": "kXVwau5ROmp6",
        "outputId": "317ee6e0-0f63-40e3-a9a6-a9e56cb1b8a0"
      },
      "outputs": [
        {
          "name": "stdout",
          "output_type": "stream",
          "text": [
            "Cluster 0: and(428714), for(160969), but(106921), that(86980), so(50773)\n",
            "Cluster 1: purtroppo(184), poteva(89), pare(32), granch(29), precedente(27)\n",
            "Cluster 2: om(943), frsta(53), trevliga(53), sknt(32), roligt(27)\n",
            "Cluster 3: mme(936), aussi(382), meme(178), intressant(57), ncessaire(53)\n",
            "Cluster 4: porque(365), algo(330), falta(128), pedir(86), cierto(78)\n"
          ]
        }
      ],
      "source": [
        "# Function to get the most frequent word from a list using the existing freq_voc\n",
        "def get_frequent_word(word_list: List[str], top_n: int = 5) -> List[Tuple[str, int]]:\n",
        "    freq_words = sorted([(w, freq_voc.get(w, 0)) for w in word_list if w in freq_voc],\n",
        "                        key=lambda x: x[1], reverse=True)\n",
        "    return freq_words[:top_n] if freq_words else [('', 0)]\n",
        "\n",
        "# Find representative words for each cluster\n",
        "representative_words = []\n",
        "n_words_to_check = 100  # Number of closest words to check for each centroid\n",
        "\n",
        "for i in range(n_clusters):\n",
        "    cluster_points = normalized_embeddings[cluster_labels == i]\n",
        "    cluster_words = embeddings.index[cluster_labels == i].tolist()\n",
        "\n",
        "    # Calculate distances from centroid to all points in the cluster\n",
        "    distances = cdist([centroids[i]], cluster_points)[0]\n",
        "\n",
        "    # Sort words by distance from centroid\n",
        "    sorted_indices = np.argsort(distances)\n",
        "    sorted_words = [cluster_words[j] for j in sorted_indices[:n_words_to_check]]\n",
        "\n",
        "    # Get the most frequent words from this cluster\n",
        "    freq_words = get_frequent_word(sorted_words, top_n=5)\n",
        "    representative_words.append(freq_words)\n",
        "\n",
        "# Print representative words for each cluster\n",
        "for i, words in enumerate(representative_words):\n",
        "    print(f\"Cluster {i}: {', '.join([f'{w}({c})' for w, c in words])}\")"
      ]
    },
    {
      "cell_type": "markdown",
      "id": "PKss2iUPTn0y",
      "metadata": {
        "id": "PKss2iUPTn0y"
      },
      "source": [
        "In order to capture the meaning of each cluster, we will take 50 random words from each cluster.\n",
        "Then we will try to identify the meaning of each cluster by looking at the words in it.\n",
        "\n",
        "We repeated this process 3 times, to be more confident in our results.\n"
      ]
    },
    {
      "cell_type": "code",
      "execution_count": 56,
      "id": "uc1_pryBTmu9",
      "metadata": {
        "colab": {
          "base_uri": "https://localhost:8080/"
        },
        "id": "uc1_pryBTmu9",
        "outputId": "185a5bad-86ea-4d12-92c2-ba306941178c"
      },
      "outputs": [
        {
          "name": "stdout",
          "output_type": "stream",
          "text": [
            "Cluster 0: ambassador, williams, sum, katrina, tolerate, leisure, concerned, crawl, missed, abut, ranch, exhale, appearance, stamped, quarters, label, exhibit, busy, environmentally, embarrassment, displaced, regretted, nutshell, kitschy, astonishing, afterwards, faster, evita, excused, downgraded, livid, settee, breaks, outskirts, stage, dallas, twice, finishing, omlette, encourages, penalty, frying, queuing, hisher, nasa, unsuccessfully, exudes, whod, documentation, floored\n",
            "Cluster 1: puoi, personalmente, rinfrescata, cucinotto, alcuni, turistico, oppure, trovata, ridotte, tecnico, corrente, avviso, accesso, vai, rapidi, privati, offerto, clientela, gentilmente, febbraio, prossima, vivibili, senza, accade, allinterno, ha, sarete, ottimo, meta, quello, previsto, restauro, parlare, pasti, consumare, cerano, terreno, massima, posizionato, allaltezza, italia, evitatelo, sentire, prenotazioni, termosifone, darci, aiutare, starci, laffaccio, centro\n",
            "Cluster 2: zou, luktade, restaurangen, klder, musik, anmeldelser, hade, smule, stlle, zum, bezoek, anden, sanitair, kwaliteit, vist, faciliteter, gngen, virkede, forhnd, maar, douchen, nemen, zag, opphold, pensylvania, voor, koelkast, brer, sen, pers, ret, skn, echte, vei, tunnelbana, zwembad, sova, larm, lokatie, ik, vare, gute, dyrare, larmede, pga, ka, vill, centralt, fr, lngre\n",
            "Cluster 3: ferms, dsirer, alors, deau, moelleux, manire, tlvision, simplement, ordinateurs, oublier, formule, troit, mise, commerces, miroir, oubli, raison, certaine, pres, dcouvert, mnage, pouvais, toile, tard, cafard, immeubles, peuttre, voyager, navions, cependant, moyenne, entretenu, prvoir, vais, suprieurs, longue, petites, plutot, suffisante, surclass, charme, notion, voisin, arrivs, moindre, couper, lavenue, seront, luxueux, idale\n",
            "Cluster 4: chegada, esposa, estado, habitacin, proximidades, funcional, lados, funcionarios, semana, novembro, baixo, nuevamente, fruta, organizado, cuanto, banho, cada, apariencia, um, nossa, viendo, minusculo, espere, quieres, trato, temporada, escolha, quedarnos, tarde, igualmente, pagado, quem, recorriendo, directo, ni, absoluto, alojado, quienes, hablaba, hice, que, outro, somente, montn, situacin, remodelado, pagando, fomos, estaba, cheguei\n"
          ]
        }
      ],
      "source": [
        "for cluster in range(n_clusters):\n",
        "    cluster_words = df_2d[df_2d['Cluster'] == cluster].index.tolist()\n",
        "    random_words = np.random.choice(cluster_words, size=min(50, len(cluster_words)), replace=False)\n",
        "    print(f\"Cluster {cluster}: {', '.join(random_words)}\")"
      ]
    },
    {
      "cell_type": "markdown",
      "id": "nHF9KiBtUV56",
      "metadata": {
        "id": "nHF9KiBtUV56"
      },
      "source": [
        "Based on the words in each cluster (and thanks to ChatGPT!), we can see that the clusters are roughly seperated based on... **their language!**\n",
        "\n",
        "We've found that the clusters are seperated based on the language of the reviews, which is quite interesting. And they are just words related to hotels/traveling, but in different languages.\n",
        "\n",
        "<u>Conclusion:</u>\n",
        "\n",
        "* **<u>Cluster 0: English.</u>** For example: \"street\", \"view\".\n",
        "* **<u>Cluster 1: Italian.</u>** For example: \"vacanza\" (vacation), \"pulite\" (clean).\n",
        "* **<u>Cluster 2: Scandinavian languages (Danish/Swedish/Norwegian).</u>** For example: \"badevrelset\" (bathroom), \"stad\" (city).\n",
        "* **<u>Cluster 3: French.</u>** For example: \"voyageurs\" (travelers), \"chambre\" (room).\n",
        "* **<u>Cluster 4: Spanish.</u>** For example: \"habitacion\" (room), \"horario\" (schedule)."
      ]
    },
    {
      "cell_type": "markdown",
      "id": "OSiDXJhxUz4W",
      "metadata": {
        "id": "OSiDXJhxUz4W"
      },
      "source": [
        "### <u>Clustering Visualization:</u>"
      ]
    },
    {
      "cell_type": "code",
      "execution_count": 60,
      "id": "28Pf5EOtWa0b",
      "metadata": {
        "colab": {
          "base_uri": "https://localhost:8080/",
          "height": 607
        },
        "id": "28Pf5EOtWa0b",
        "outputId": "e28d331e-cfc8-4251-a39c-2309309b7ace"
      },
      "outputs": [
        {
          "data": {
            "image/png": "[encoded data removed]",
            "text/plain": [
              "<Figure size 800x600 with 1 Axes>"
            ]
          },
          "metadata": {},
          "output_type": "display_data"
        }
      ],
      "source": [
        "# Visualize the clusters\n",
        "plt.figure(figsize=(8, 6))\n",
        "color_map = plt.colormaps['tab10']\n",
        "\n",
        "# Define language labels\n",
        "language_labels = ['English', 'Italian', 'Scandinavian', 'French', 'Spanish']\n",
        "\n",
        "for cluster in range(n_clusters):\n",
        "    cluster_points = df_2d[df_2d['Cluster'] == cluster]\n",
        "    plt.scatter(cluster_points['x'], cluster_points['y'],\n",
        "                c=[color_map(cluster / n_clusters)],\n",
        "                label=language_labels[cluster],\n",
        "                alpha=0.7,\n",
        "                s=20)\n",
        "\n",
        "    # Calculate centroid of the cluster\n",
        "    centroid_x = cluster_points['x'].mean()\n",
        "    centroid_y = cluster_points['y'].mean()\n",
        "\n",
        "    # Annotate with the most frequent word at the cluster centroid\n",
        "    if representative_words[cluster][0][0]:  # Check if we have a word\n",
        "        word, freq = representative_words[cluster][0]\n",
        "        plt.annotate(f\"{word} ({freq})\", (centroid_x, centroid_y),\n",
        "                     xytext=(0, 0), textcoords='offset points',\n",
        "                     fontsize=7,\n",
        "                     fontweight='bold',\n",
        "                     ha='center', va='center',\n",
        "                     bbox=dict(boxstyle=\"round,pad=0.2\", fc=\"white\", ec=\"gray\", alpha=0.8))\n",
        "\n",
        "plt.title(\"Word Embeddings Clusters by Language\", fontsize=12)\n",
        "plt.legend(bbox_to_anchor=(1.05, 1), loc='upper left', fontsize=8)\n",
        "plt.tight_layout()\n",
        "plt.show()"
      ]
    },
    {
      "cell_type": "markdown",
      "id": "ehGoghNyXlgP",
      "metadata": {
        "id": "ehGoghNyXlgP"
      },
      "source": [
        "<u>Translations of Important Words:</u>\n",
        "\n",
        "* 'purtroppo' (Italian) = unfortunately.\n",
        "* 'om' (Scandinavian) = about/if.\n",
        "* 'mme' (French) = ma'am/madam.\n",
        "* 'porque' (Spanish) = because/why."
      ]
    },
    {
      "cell_type": "markdown",
      "id": "94148bbf",
      "metadata": {
        "id": "94148bbf"
      },
      "source": [
        "--------"
      ]
    },
    {
      "cell_type": "markdown",
      "id": "d41d1102",
      "metadata": {
        "id": "d41d1102"
      },
      "source": [
        "**The End!**"
      ]
    }
  ],
  "metadata": {
    "colab": {
      "provenance": []
    },
    "kernelspec": {
      "display_name": "Python 3 (ipykernel)",
      "language": "python",
      "name": "python3"
    },
    "language_info": {
      "codemirror_mode": {
        "name": "ipython",
        "version": 3
      },
      "file_extension": ".py",
      "mimetype": "text/x-python",
      "name": "python",
      "nbconvert_exporter": "python",
      "pygments_lexer": "ipython3",
      "version": "3.10.0"
    }
  },
  "nbformat": 4,
  "nbformat_minor": 5
}
